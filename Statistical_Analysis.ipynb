{
  "cells": [
    {
      "cell_type": "markdown",
      "metadata": {
        "id": "Kct9vl3Nn5rM"
      },
      "source": [
        "# **STATISTICAL ANALYSIS**"
      ]
    },
    {
      "cell_type": "markdown",
      "metadata": {
        "id": "Qdx7VQEvMyXP"
      },
      "source": [
        "### **First Dataset**"
      ]
    },
    {
      "cell_type": "code",
      "execution_count": 61,
      "metadata": {
        "id": "V2YV1V4emiAX"
      },
      "outputs": [],
      "source": [
        "#First, let's load the \"tips\" dataset from seaborn.\n",
        "import seaborn as sns\n",
        "import matplotlib.pyplot as plt\n",
        "from scipy import stats\n",
        "import statsmodels.api as sm\n",
        "\n",
        "\n"
      ]
    },
    {
      "cell_type": "code",
      "execution_count": 32,
      "metadata": {
        "colab": {
          "base_uri": "https://localhost:8080/",
          "height": 206
        },
        "id": "XGHAR6O6q4ad",
        "outputId": "bb44da7b-96ad-46c4-f63f-2781488c2a91"
      },
      "outputs": [
        {
          "data": {
            "text/html": [
              "<div>\n",
              "<style scoped>\n",
              "    .dataframe tbody tr th:only-of-type {\n",
              "        vertical-align: middle;\n",
              "    }\n",
              "\n",
              "    .dataframe tbody tr th {\n",
              "        vertical-align: top;\n",
              "    }\n",
              "\n",
              "    .dataframe thead th {\n",
              "        text-align: right;\n",
              "    }\n",
              "</style>\n",
              "<table border=\"1\" class=\"dataframe\">\n",
              "  <thead>\n",
              "    <tr style=\"text-align: right;\">\n",
              "      <th></th>\n",
              "      <th>total_bill</th>\n",
              "      <th>tip</th>\n",
              "      <th>sex</th>\n",
              "      <th>smoker</th>\n",
              "      <th>day</th>\n",
              "      <th>time</th>\n",
              "      <th>size</th>\n",
              "    </tr>\n",
              "  </thead>\n",
              "  <tbody>\n",
              "    <tr>\n",
              "      <th>0</th>\n",
              "      <td>16.99</td>\n",
              "      <td>1.01</td>\n",
              "      <td>Female</td>\n",
              "      <td>No</td>\n",
              "      <td>Sun</td>\n",
              "      <td>Dinner</td>\n",
              "      <td>2</td>\n",
              "    </tr>\n",
              "    <tr>\n",
              "      <th>1</th>\n",
              "      <td>10.34</td>\n",
              "      <td>1.66</td>\n",
              "      <td>Male</td>\n",
              "      <td>No</td>\n",
              "      <td>Sun</td>\n",
              "      <td>Dinner</td>\n",
              "      <td>3</td>\n",
              "    </tr>\n",
              "    <tr>\n",
              "      <th>2</th>\n",
              "      <td>21.01</td>\n",
              "      <td>3.50</td>\n",
              "      <td>Male</td>\n",
              "      <td>No</td>\n",
              "      <td>Sun</td>\n",
              "      <td>Dinner</td>\n",
              "      <td>3</td>\n",
              "    </tr>\n",
              "    <tr>\n",
              "      <th>3</th>\n",
              "      <td>23.68</td>\n",
              "      <td>3.31</td>\n",
              "      <td>Male</td>\n",
              "      <td>No</td>\n",
              "      <td>Sun</td>\n",
              "      <td>Dinner</td>\n",
              "      <td>2</td>\n",
              "    </tr>\n",
              "    <tr>\n",
              "      <th>4</th>\n",
              "      <td>24.59</td>\n",
              "      <td>3.61</td>\n",
              "      <td>Female</td>\n",
              "      <td>No</td>\n",
              "      <td>Sun</td>\n",
              "      <td>Dinner</td>\n",
              "      <td>4</td>\n",
              "    </tr>\n",
              "  </tbody>\n",
              "</table>\n",
              "</div>"
            ],
            "text/plain": [
              "   total_bill   tip     sex smoker  day    time  size\n",
              "0       16.99  1.01  Female     No  Sun  Dinner     2\n",
              "1       10.34  1.66    Male     No  Sun  Dinner     3\n",
              "2       21.01  3.50    Male     No  Sun  Dinner     3\n",
              "3       23.68  3.31    Male     No  Sun  Dinner     2\n",
              "4       24.59  3.61  Female     No  Sun  Dinner     4"
            ]
          },
          "execution_count": 32,
          "metadata": {},
          "output_type": "execute_result"
        }
      ],
      "source": [
        "# Load the tips dataset\n",
        "df = sns.load_dataset('tips')\n",
        "df.head()"
      ]
    },
    {
      "cell_type": "code",
      "execution_count": 33,
      "metadata": {
        "colab": {
          "base_uri": "https://localhost:8080/"
        },
        "id": "zN6sL-tAmzh0",
        "outputId": "4fca55d4-cdae-47a2-ea61-73d559716a4a"
      },
      "outputs": [
        {
          "name": "stdout",
          "output_type": "stream",
          "text": [
            "total_bill    0\n",
            "tip           0\n",
            "sex           0\n",
            "smoker        0\n",
            "day           0\n",
            "time          0\n",
            "size          0\n",
            "dtype: int64\n"
          ]
        }
      ],
      "source": [
        "#Data Cleaning\n",
        "\n",
        "# Check for missing values\n",
        "print(df.isnull().sum())\n",
        "\n",
        "# Drop rows with missing values (if any)\n",
        "df_cleaned = df.dropna()\n",
        "\n"
      ]
    },
    {
      "cell_type": "code",
      "execution_count": 34,
      "metadata": {
        "colab": {
          "base_uri": "https://localhost:8080/"
        },
        "id": "yBpjKUcErOPj",
        "outputId": "00323932-405b-46bc-b74b-301c72797b71"
      },
      "outputs": [
        {
          "name": "stdout",
          "output_type": "stream",
          "text": [
            "1\n"
          ]
        }
      ],
      "source": [
        "# Check for duplicates\n",
        "print(df_cleaned.duplicated().sum())\n",
        "\n"
      ]
    },
    {
      "cell_type": "code",
      "execution_count": 35,
      "metadata": {
        "id": "uEqBHHp4rRMT"
      },
      "outputs": [],
      "source": [
        "# Remove duplicates (if any)\n",
        "df_cleaned = df_cleaned.drop_duplicates()\n"
      ]
    },
    {
      "cell_type": "markdown",
      "metadata": {
        "id": "TLa_XWX4u5mA"
      },
      "source": [
        "### **Descriptive Statistics**"
      ]
    },
    {
      "cell_type": "code",
      "execution_count": 36,
      "metadata": {
        "colab": {
          "base_uri": "https://localhost:8080/",
          "height": 300
        },
        "id": "UE-tnbxmm5E7",
        "outputId": "ba45518c-5913-4eec-b507-d9829177a661"
      },
      "outputs": [
        {
          "data": {
            "text/html": [
              "<div>\n",
              "<style scoped>\n",
              "    .dataframe tbody tr th:only-of-type {\n",
              "        vertical-align: middle;\n",
              "    }\n",
              "\n",
              "    .dataframe tbody tr th {\n",
              "        vertical-align: top;\n",
              "    }\n",
              "\n",
              "    .dataframe thead th {\n",
              "        text-align: right;\n",
              "    }\n",
              "</style>\n",
              "<table border=\"1\" class=\"dataframe\">\n",
              "  <thead>\n",
              "    <tr style=\"text-align: right;\">\n",
              "      <th></th>\n",
              "      <th>total_bill</th>\n",
              "      <th>tip</th>\n",
              "      <th>size</th>\n",
              "    </tr>\n",
              "  </thead>\n",
              "  <tbody>\n",
              "    <tr>\n",
              "      <th>count</th>\n",
              "      <td>243.000000</td>\n",
              "      <td>243.000000</td>\n",
              "      <td>243.000000</td>\n",
              "    </tr>\n",
              "    <tr>\n",
              "      <th>mean</th>\n",
              "      <td>19.813868</td>\n",
              "      <td>3.002387</td>\n",
              "      <td>2.572016</td>\n",
              "    </tr>\n",
              "    <tr>\n",
              "      <th>std</th>\n",
              "      <td>8.910071</td>\n",
              "      <td>1.385002</td>\n",
              "      <td>0.952356</td>\n",
              "    </tr>\n",
              "    <tr>\n",
              "      <th>min</th>\n",
              "      <td>3.070000</td>\n",
              "      <td>1.000000</td>\n",
              "      <td>1.000000</td>\n",
              "    </tr>\n",
              "    <tr>\n",
              "      <th>25%</th>\n",
              "      <td>13.380000</td>\n",
              "      <td>2.000000</td>\n",
              "      <td>2.000000</td>\n",
              "    </tr>\n",
              "    <tr>\n",
              "      <th>50%</th>\n",
              "      <td>17.810000</td>\n",
              "      <td>2.920000</td>\n",
              "      <td>2.000000</td>\n",
              "    </tr>\n",
              "    <tr>\n",
              "      <th>75%</th>\n",
              "      <td>24.175000</td>\n",
              "      <td>3.575000</td>\n",
              "      <td>3.000000</td>\n",
              "    </tr>\n",
              "    <tr>\n",
              "      <th>max</th>\n",
              "      <td>50.810000</td>\n",
              "      <td>10.000000</td>\n",
              "      <td>6.000000</td>\n",
              "    </tr>\n",
              "  </tbody>\n",
              "</table>\n",
              "</div>"
            ],
            "text/plain": [
              "       total_bill         tip        size\n",
              "count  243.000000  243.000000  243.000000\n",
              "mean    19.813868    3.002387    2.572016\n",
              "std      8.910071    1.385002    0.952356\n",
              "min      3.070000    1.000000    1.000000\n",
              "25%     13.380000    2.000000    2.000000\n",
              "50%     17.810000    2.920000    2.000000\n",
              "75%     24.175000    3.575000    3.000000\n",
              "max     50.810000   10.000000    6.000000"
            ]
          },
          "execution_count": 36,
          "metadata": {},
          "output_type": "execute_result"
        }
      ],
      "source": [
        "# Summary statistics\n",
        "df_cleaned.describe()\n",
        "\n",
        "\n",
        "\n",
        "\n",
        "\n",
        "\n",
        "\n"
      ]
    },
    {
      "cell_type": "code",
      "execution_count": 37,
      "metadata": {
        "colab": {
          "base_uri": "https://localhost:8080/"
        },
        "id": "_OflrSVBrbQK",
        "outputId": "615177bc-4a8e-4774-cc8e-36987cb696cc"
      },
      "outputs": [
        {
          "name": "stdout",
          "output_type": "stream",
          "text": [
            "total_bill    19.813868\n",
            "tip            3.002387\n",
            "size           2.572016\n",
            "dtype: float64\n"
          ]
        }
      ],
      "source": [
        "# Selecting only numeric columns for statistical calculations\n",
        "numeric_cols = df_cleaned.select_dtypes(include=['float64', 'int64'])\n",
        "\n",
        "# Mean of each numeric column\n",
        "print(numeric_cols.mean())\n",
        "\n"
      ]
    },
    {
      "cell_type": "code",
      "execution_count": 38,
      "metadata": {
        "colab": {
          "base_uri": "https://localhost:8080/"
        },
        "id": "gobDuMvjr3NL",
        "outputId": "0fc82456-5c47-424a-de79-393ed37edb26"
      },
      "outputs": [
        {
          "name": "stdout",
          "output_type": "stream",
          "text": [
            "total_bill    17.81\n",
            "tip            2.92\n",
            "size           2.00\n",
            "dtype: float64\n"
          ]
        }
      ],
      "source": [
        "# Median of each numeric column\n",
        "print(numeric_cols.median())\n",
        "\n"
      ]
    },
    {
      "cell_type": "code",
      "execution_count": 39,
      "metadata": {
        "colab": {
          "base_uri": "https://localhost:8080/"
        },
        "id": "EOB_A7Lgr5QQ",
        "outputId": "feae6a75-defa-4105-92c0-73776ef08659"
      },
      "outputs": [
        {
          "name": "stdout",
          "output_type": "stream",
          "text": [
            "   total_bill  tip   sex smoker  day    time  size\n",
            "0       13.42  2.0  Male     No  Sat  Dinner     2\n"
          ]
        }
      ],
      "source": [
        "# Mode of each column (note: mode can handle categorical data)\n",
        "print(df_cleaned.mode())\n",
        "\n"
      ]
    },
    {
      "cell_type": "code",
      "execution_count": 40,
      "metadata": {
        "colab": {
          "base_uri": "https://localhost:8080/"
        },
        "id": "yT51AWYNr5ol",
        "outputId": "7e529305-5560-48d7-88c3-5412d18a90d8"
      },
      "outputs": [
        {
          "name": "stdout",
          "output_type": "stream",
          "text": [
            "total_bill    8.910071\n",
            "tip           1.385002\n",
            "size          0.952356\n",
            "dtype: float64\n"
          ]
        }
      ],
      "source": [
        "# Standard deviation of each numeric column\n",
        "print(numeric_cols.std())\n"
      ]
    },
    {
      "cell_type": "code",
      "execution_count": 41,
      "metadata": {
        "colab": {
          "base_uri": "https://localhost:8080/",
          "height": 472
        },
        "id": "EI86WHHckphx",
        "outputId": "d40e182d-105a-403f-e4ac-29ff7f5cda5a"
      },
      "outputs": [
        {
          "data": {
            "image/png": "[encoded data removed]",
            "text/plain": [
              "<Figure size 640x480 with 1 Axes>"
            ]
          },
          "metadata": {},
          "output_type": "display_data"
        }
      ],
      "source": [
        "# Histogram of total bill\n",
        "sns.histplot(df_cleaned['total_bill'])\n",
        "plt.title('Histogram of Total Bill')\n",
        "plt.show()\n",
        "\n"
      ]
    },
    {
      "cell_type": "code",
      "execution_count": 42,
      "metadata": {
        "colab": {
          "base_uri": "https://localhost:8080/",
          "height": 472
        },
        "id": "gKX0z7rMkq-p",
        "outputId": "5c18c389-90dd-47a6-cf06-fda80d8b5e48"
      },
      "outputs": [
        {
          "data": {
            "image/png": "[encoded data removed]",
            "text/plain": [
              "<Figure size 640x480 with 1 Axes>"
            ]
          },
          "metadata": {},
          "output_type": "display_data"
        }
      ],
      "source": [
        "# Boxplot of tips by day\n",
        "sns.boxplot(x='day', y='tip', data=df_cleaned)\n",
        "plt.title('Boxplot of Tips by Day')\n",
        "plt.show()"
      ]
    },
    {
      "cell_type": "markdown",
      "metadata": {
        "id": "LmwWKzC2IOOz"
      },
      "source": [
        "### **Inferential Statistics**"
      ]
    },
    {
      "cell_type": "code",
      "execution_count": 43,
      "metadata": {
        "colab": {
          "base_uri": "https://localhost:8080/"
        },
        "id": "h2g9VEkUm-aR",
        "outputId": "640dab93-1ffd-41d6-c8aa-61741eec8625"
      },
      "outputs": [
        {
          "name": "stdout",
          "output_type": "stream",
          "text": [
            "T-statistic: 0.15156585951381893\n",
            "P-value: 0.8796561596489987\n"
          ]
        }
      ],
      "source": [
        "#Hypothesis Testing\n",
        "\n",
        "#We can test if there's a significant difference in tip amounts between smokers and non-smokers using a t-test.\n",
        "\n",
        "# Tips for smokers and non-smokers\n",
        "smokers = df_cleaned[df_cleaned['smoker'] == 'Yes']['tip']\n",
        "non_smokers = df_cleaned[df_cleaned['smoker'] == 'No']['tip']\n",
        "\n",
        "# Perform a t-test\n",
        "t_stat, p_val = stats.ttest_ind(smokers, non_smokers)\n",
        "print('T-statistic:', t_stat)\n",
        "print('P-value:', p_val)\n",
        "\n",
        "\n"
      ]
    },
    {
      "cell_type": "code",
      "execution_count": 44,
      "metadata": {
        "colab": {
          "base_uri": "https://localhost:8080/"
        },
        "id": "pgnxPihls5p3",
        "outputId": "aa65661a-587e-4197-d3b3-8823ec9b83cf"
      },
      "outputs": [
        {
          "name": "stdout",
          "output_type": "stream",
          "text": [
            "do not reject the hypothesis\n"
          ]
        }
      ],
      "source": [
        "if (p_val < 0.05):\n",
        "    print('reject the hypothesis')\n",
        "else:\n",
        "    print('do not reject the hypothesis')"
      ]
    },
    {
      "cell_type": "code",
      "execution_count": 45,
      "metadata": {
        "id": "S3gKUqYunMxu"
      },
      "outputs": [],
      "source": [
        "#Regression Analysis\n",
        "#We model the relationship between the total bill and the tip amount using linear regression.\n",
        "\n",
        "import statsmodels.api as sm\n",
        "\n",
        "# Simple linear regression\n",
        "X = df_cleaned['total_bill']\n",
        "y = df_cleaned['tip']\n",
        "X = sm.add_constant(X)  # adding a constant\n",
        "\n",
        "model = sm.OLS(y, X).fit()\n",
        "predictions = model.predict(X)\n",
        "\n",
        "\n"
      ]
    },
    {
      "cell_type": "code",
      "execution_count": 46,
      "metadata": {
        "colab": {
          "base_uri": "https://localhost:8080/",
          "height": 472
        },
        "id": "uaRFpBv4k_bD",
        "outputId": "c4bab4b2-4695-4be8-e397-8ade17e3e715"
      },
      "outputs": [
        {
          "data": {
            "image/png": "[encoded data removed]",
            "text/plain": [
              "<Figure size 640x480 with 1 Axes>"
            ]
          },
          "metadata": {},
          "output_type": "display_data"
        }
      ],
      "source": [
        "# Plotting the regression line\n",
        "plt.scatter(df_cleaned['total_bill'], df_cleaned['tip'])\n",
        "plt.plot(df_cleaned['total_bill'], predictions, color='red')\n",
        "plt.xlabel('Total Bill')\n",
        "plt.ylabel('Tip')\n",
        "plt.title('Total Bill vs Tip')\n",
        "plt.show()"
      ]
    },
    {
      "cell_type": "markdown",
      "metadata": {
        "id": "KE1V1LUiPUTc"
      },
      "source": [
        "### **Second Dataset**"
      ]
    },
    {
      "cell_type": "code",
      "execution_count": 47,
      "metadata": {
        "colab": {
          "base_uri": "https://localhost:8080/",
          "height": 206
        },
        "id": "puHZqZCXnPgK",
        "outputId": "4d078651-2adb-4310-face-46d9b750f098"
      },
      "outputs": [
        {
          "data": {
            "text/html": [
              "<div>\n",
              "<style scoped>\n",
              "    .dataframe tbody tr th:only-of-type {\n",
              "        vertical-align: middle;\n",
              "    }\n",
              "\n",
              "    .dataframe tbody tr th {\n",
              "        vertical-align: top;\n",
              "    }\n",
              "\n",
              "    .dataframe thead th {\n",
              "        text-align: right;\n",
              "    }\n",
              "</style>\n",
              "<table border=\"1\" class=\"dataframe\">\n",
              "  <thead>\n",
              "    <tr style=\"text-align: right;\">\n",
              "      <th></th>\n",
              "      <th>carat</th>\n",
              "      <th>cut</th>\n",
              "      <th>color</th>\n",
              "      <th>clarity</th>\n",
              "      <th>depth</th>\n",
              "      <th>table</th>\n",
              "      <th>price</th>\n",
              "      <th>x</th>\n",
              "      <th>y</th>\n",
              "      <th>z</th>\n",
              "    </tr>\n",
              "  </thead>\n",
              "  <tbody>\n",
              "    <tr>\n",
              "      <th>0</th>\n",
              "      <td>0.23</td>\n",
              "      <td>Ideal</td>\n",
              "      <td>E</td>\n",
              "      <td>SI2</td>\n",
              "      <td>61.5</td>\n",
              "      <td>55.0</td>\n",
              "      <td>326</td>\n",
              "      <td>3.95</td>\n",
              "      <td>3.98</td>\n",
              "      <td>2.43</td>\n",
              "    </tr>\n",
              "    <tr>\n",
              "      <th>1</th>\n",
              "      <td>0.21</td>\n",
              "      <td>Premium</td>\n",
              "      <td>E</td>\n",
              "      <td>SI1</td>\n",
              "      <td>59.8</td>\n",
              "      <td>61.0</td>\n",
              "      <td>326</td>\n",
              "      <td>3.89</td>\n",
              "      <td>3.84</td>\n",
              "      <td>2.31</td>\n",
              "    </tr>\n",
              "    <tr>\n",
              "      <th>2</th>\n",
              "      <td>0.23</td>\n",
              "      <td>Good</td>\n",
              "      <td>E</td>\n",
              "      <td>VS1</td>\n",
              "      <td>56.9</td>\n",
              "      <td>65.0</td>\n",
              "      <td>327</td>\n",
              "      <td>4.05</td>\n",
              "      <td>4.07</td>\n",
              "      <td>2.31</td>\n",
              "    </tr>\n",
              "    <tr>\n",
              "      <th>3</th>\n",
              "      <td>0.29</td>\n",
              "      <td>Premium</td>\n",
              "      <td>I</td>\n",
              "      <td>VS2</td>\n",
              "      <td>62.4</td>\n",
              "      <td>58.0</td>\n",
              "      <td>334</td>\n",
              "      <td>4.20</td>\n",
              "      <td>4.23</td>\n",
              "      <td>2.63</td>\n",
              "    </tr>\n",
              "    <tr>\n",
              "      <th>4</th>\n",
              "      <td>0.31</td>\n",
              "      <td>Good</td>\n",
              "      <td>J</td>\n",
              "      <td>SI2</td>\n",
              "      <td>63.3</td>\n",
              "      <td>58.0</td>\n",
              "      <td>335</td>\n",
              "      <td>4.34</td>\n",
              "      <td>4.35</td>\n",
              "      <td>2.75</td>\n",
              "    </tr>\n",
              "  </tbody>\n",
              "</table>\n",
              "</div>"
            ],
            "text/plain": [
              "   carat      cut color clarity  depth  table  price     x     y     z\n",
              "0   0.23    Ideal     E     SI2   61.5   55.0    326  3.95  3.98  2.43\n",
              "1   0.21  Premium     E     SI1   59.8   61.0    326  3.89  3.84  2.31\n",
              "2   0.23     Good     E     VS1   56.9   65.0    327  4.05  4.07  2.31\n",
              "3   0.29  Premium     I     VS2   62.4   58.0    334  4.20  4.23  2.63\n",
              "4   0.31     Good     J     SI2   63.3   58.0    335  4.34  4.35  2.75"
            ]
          },
          "execution_count": 47,
          "metadata": {},
          "output_type": "execute_result"
        }
      ],
      "source": [
        "\n",
        "#Let's load the \"diamonds\" dataset from Seaborn.\n",
        "\n",
        "# Load the diamonds dataset\n",
        "df = sns.load_dataset('diamonds')\n",
        "df.head()\n"
      ]
    },
    {
      "cell_type": "code",
      "execution_count": 48,
      "metadata": {
        "colab": {
          "base_uri": "https://localhost:8080/"
        },
        "id": "8x9oIqlOnUnK",
        "outputId": "50595eba-51d6-4935-9ce3-78697ba5e5be"
      },
      "outputs": [
        {
          "name": "stdout",
          "output_type": "stream",
          "text": [
            "carat      0\n",
            "cut        0\n",
            "color      0\n",
            "clarity    0\n",
            "depth      0\n",
            "table      0\n",
            "price      0\n",
            "x          0\n",
            "y          0\n",
            "z          0\n",
            "dtype: int64\n"
          ]
        }
      ],
      "source": [
        "#Data Cleaning\n",
        "\n",
        "# Check for missing values\n",
        "print(df.isnull().sum())\n",
        "\n",
        "# Drop rows with missing values (if any)\n",
        "df_cleaned = df.dropna()\n",
        "\n"
      ]
    },
    {
      "cell_type": "code",
      "execution_count": 49,
      "metadata": {
        "colab": {
          "base_uri": "https://localhost:8080/"
        },
        "id": "O_fczr6etEL9",
        "outputId": "20a51946-109f-48c5-ffdd-50b0f003217c"
      },
      "outputs": [
        {
          "name": "stdout",
          "output_type": "stream",
          "text": [
            "146\n"
          ]
        }
      ],
      "source": [
        "# Check for duplicates\n",
        "print(df_cleaned.duplicated().sum())\n",
        "\n"
      ]
    },
    {
      "cell_type": "code",
      "execution_count": 50,
      "metadata": {
        "id": "uBbPQTGctFed"
      },
      "outputs": [],
      "source": [
        "# Remove duplicates (if any)\n",
        "df_cleaned = df_cleaned.drop_duplicates()\n"
      ]
    },
    {
      "cell_type": "markdown",
      "metadata": {
        "id": "KYtOofp5vYa7"
      },
      "source": [
        "### **Descriptive Statistics**"
      ]
    },
    {
      "cell_type": "code",
      "execution_count": 51,
      "metadata": {
        "colab": {
          "base_uri": "https://localhost:8080/",
          "height": 394
        },
        "id": "5CdqOg0snUrU",
        "outputId": "7458b5fb-7424-4fb2-e2c1-fab6f08c9641"
      },
      "outputs": [
        {
          "data": {
            "text/html": [
              "<div>\n",
              "<style scoped>\n",
              "    .dataframe tbody tr th:only-of-type {\n",
              "        vertical-align: middle;\n",
              "    }\n",
              "\n",
              "    .dataframe tbody tr th {\n",
              "        vertical-align: top;\n",
              "    }\n",
              "\n",
              "    .dataframe thead th {\n",
              "        text-align: right;\n",
              "    }\n",
              "</style>\n",
              "<table border=\"1\" class=\"dataframe\">\n",
              "  <thead>\n",
              "    <tr style=\"text-align: right;\">\n",
              "      <th></th>\n",
              "      <th>carat</th>\n",
              "      <th>cut</th>\n",
              "      <th>color</th>\n",
              "      <th>clarity</th>\n",
              "      <th>depth</th>\n",
              "      <th>table</th>\n",
              "      <th>price</th>\n",
              "      <th>x</th>\n",
              "      <th>y</th>\n",
              "      <th>z</th>\n",
              "    </tr>\n",
              "  </thead>\n",
              "  <tbody>\n",
              "    <tr>\n",
              "      <th>count</th>\n",
              "      <td>53794.00000</td>\n",
              "      <td>53794</td>\n",
              "      <td>53794</td>\n",
              "      <td>53794</td>\n",
              "      <td>53794.000000</td>\n",
              "      <td>53794.000000</td>\n",
              "      <td>53794.000000</td>\n",
              "      <td>53794.000000</td>\n",
              "      <td>53794.000000</td>\n",
              "      <td>53794.000000</td>\n",
              "    </tr>\n",
              "    <tr>\n",
              "      <th>unique</th>\n",
              "      <td>NaN</td>\n",
              "      <td>5</td>\n",
              "      <td>7</td>\n",
              "      <td>8</td>\n",
              "      <td>NaN</td>\n",
              "      <td>NaN</td>\n",
              "      <td>NaN</td>\n",
              "      <td>NaN</td>\n",
              "      <td>NaN</td>\n",
              "      <td>NaN</td>\n",
              "    </tr>\n",
              "    <tr>\n",
              "      <th>top</th>\n",
              "      <td>NaN</td>\n",
              "      <td>Ideal</td>\n",
              "      <td>G</td>\n",
              "      <td>SI1</td>\n",
              "      <td>NaN</td>\n",
              "      <td>NaN</td>\n",
              "      <td>NaN</td>\n",
              "      <td>NaN</td>\n",
              "      <td>NaN</td>\n",
              "      <td>NaN</td>\n",
              "    </tr>\n",
              "    <tr>\n",
              "      <th>freq</th>\n",
              "      <td>NaN</td>\n",
              "      <td>21488</td>\n",
              "      <td>11262</td>\n",
              "      <td>13032</td>\n",
              "      <td>NaN</td>\n",
              "      <td>NaN</td>\n",
              "      <td>NaN</td>\n",
              "      <td>NaN</td>\n",
              "      <td>NaN</td>\n",
              "      <td>NaN</td>\n",
              "    </tr>\n",
              "    <tr>\n",
              "      <th>mean</th>\n",
              "      <td>0.79778</td>\n",
              "      <td>NaN</td>\n",
              "      <td>NaN</td>\n",
              "      <td>NaN</td>\n",
              "      <td>61.748080</td>\n",
              "      <td>57.458109</td>\n",
              "      <td>3933.065082</td>\n",
              "      <td>5.731214</td>\n",
              "      <td>5.734653</td>\n",
              "      <td>3.538714</td>\n",
              "    </tr>\n",
              "    <tr>\n",
              "      <th>std</th>\n",
              "      <td>0.47339</td>\n",
              "      <td>NaN</td>\n",
              "      <td>NaN</td>\n",
              "      <td>NaN</td>\n",
              "      <td>1.429909</td>\n",
              "      <td>2.233679</td>\n",
              "      <td>3988.114460</td>\n",
              "      <td>1.120695</td>\n",
              "      <td>1.141209</td>\n",
              "      <td>0.705037</td>\n",
              "    </tr>\n",
              "    <tr>\n",
              "      <th>min</th>\n",
              "      <td>0.20000</td>\n",
              "      <td>NaN</td>\n",
              "      <td>NaN</td>\n",
              "      <td>NaN</td>\n",
              "      <td>43.000000</td>\n",
              "      <td>43.000000</td>\n",
              "      <td>326.000000</td>\n",
              "      <td>0.000000</td>\n",
              "      <td>0.000000</td>\n",
              "      <td>0.000000</td>\n",
              "    </tr>\n",
              "    <tr>\n",
              "      <th>25%</th>\n",
              "      <td>0.40000</td>\n",
              "      <td>NaN</td>\n",
              "      <td>NaN</td>\n",
              "      <td>NaN</td>\n",
              "      <td>61.000000</td>\n",
              "      <td>56.000000</td>\n",
              "      <td>951.000000</td>\n",
              "      <td>4.710000</td>\n",
              "      <td>4.720000</td>\n",
              "      <td>2.910000</td>\n",
              "    </tr>\n",
              "    <tr>\n",
              "      <th>50%</th>\n",
              "      <td>0.70000</td>\n",
              "      <td>NaN</td>\n",
              "      <td>NaN</td>\n",
              "      <td>NaN</td>\n",
              "      <td>61.800000</td>\n",
              "      <td>57.000000</td>\n",
              "      <td>2401.000000</td>\n",
              "      <td>5.700000</td>\n",
              "      <td>5.710000</td>\n",
              "      <td>3.530000</td>\n",
              "    </tr>\n",
              "    <tr>\n",
              "      <th>75%</th>\n",
              "      <td>1.04000</td>\n",
              "      <td>NaN</td>\n",
              "      <td>NaN</td>\n",
              "      <td>NaN</td>\n",
              "      <td>62.500000</td>\n",
              "      <td>59.000000</td>\n",
              "      <td>5326.750000</td>\n",
              "      <td>6.540000</td>\n",
              "      <td>6.540000</td>\n",
              "      <td>4.030000</td>\n",
              "    </tr>\n",
              "    <tr>\n",
              "      <th>max</th>\n",
              "      <td>5.01000</td>\n",
              "      <td>NaN</td>\n",
              "      <td>NaN</td>\n",
              "      <td>NaN</td>\n",
              "      <td>79.000000</td>\n",
              "      <td>95.000000</td>\n",
              "      <td>18823.000000</td>\n",
              "      <td>10.740000</td>\n",
              "      <td>58.900000</td>\n",
              "      <td>31.800000</td>\n",
              "    </tr>\n",
              "  </tbody>\n",
              "</table>\n",
              "</div>"
            ],
            "text/plain": [
              "              carat    cut  color clarity         depth         table  \\\n",
              "count   53794.00000  53794  53794   53794  53794.000000  53794.000000   \n",
              "unique          NaN      5      7       8           NaN           NaN   \n",
              "top             NaN  Ideal      G     SI1           NaN           NaN   \n",
              "freq            NaN  21488  11262   13032           NaN           NaN   \n",
              "mean        0.79778    NaN    NaN     NaN     61.748080     57.458109   \n",
              "std         0.47339    NaN    NaN     NaN      1.429909      2.233679   \n",
              "min         0.20000    NaN    NaN     NaN     43.000000     43.000000   \n",
              "25%         0.40000    NaN    NaN     NaN     61.000000     56.000000   \n",
              "50%         0.70000    NaN    NaN     NaN     61.800000     57.000000   \n",
              "75%         1.04000    NaN    NaN     NaN     62.500000     59.000000   \n",
              "max         5.01000    NaN    NaN     NaN     79.000000     95.000000   \n",
              "\n",
              "               price             x             y             z  \n",
              "count   53794.000000  53794.000000  53794.000000  53794.000000  \n",
              "unique           NaN           NaN           NaN           NaN  \n",
              "top              NaN           NaN           NaN           NaN  \n",
              "freq             NaN           NaN           NaN           NaN  \n",
              "mean     3933.065082      5.731214      5.734653      3.538714  \n",
              "std      3988.114460      1.120695      1.141209      0.705037  \n",
              "min       326.000000      0.000000      0.000000      0.000000  \n",
              "25%       951.000000      4.710000      4.720000      2.910000  \n",
              "50%      2401.000000      5.700000      5.710000      3.530000  \n",
              "75%      5326.750000      6.540000      6.540000      4.030000  \n",
              "max     18823.000000     10.740000     58.900000     31.800000  "
            ]
          },
          "execution_count": 51,
          "metadata": {},
          "output_type": "execute_result"
        }
      ],
      "source": [
        "# Summary statistics\n",
        "df_cleaned.describe(include='all')\n",
        "\n",
        "\n"
      ]
    },
    {
      "cell_type": "code",
      "execution_count": 52,
      "metadata": {
        "colab": {
          "base_uri": "https://localhost:8080/"
        },
        "id": "M7eCiiFftUJw",
        "outputId": "c03ec418-6220-47b5-d54a-4166d41b4522"
      },
      "outputs": [
        {
          "name": "stdout",
          "output_type": "stream",
          "text": [
            "carat       0.797780\n",
            "depth      61.748080\n",
            "table      57.458109\n",
            "price    3933.065082\n",
            "x           5.731214\n",
            "y           5.734653\n",
            "z           3.538714\n",
            "dtype: float64\n"
          ]
        }
      ],
      "source": [
        "# Selecting only numeric columns for statistical calculations\n",
        "numeric_cols = df_cleaned.select_dtypes(include=['float64', 'int64'])\n",
        "\n",
        "# Mean of each numeric column\n",
        "print(numeric_cols.mean())\n",
        "\n",
        "\n"
      ]
    },
    {
      "cell_type": "code",
      "execution_count": 53,
      "metadata": {
        "colab": {
          "base_uri": "https://localhost:8080/"
        },
        "id": "k7HJAyQvtVs9",
        "outputId": "75761a50-6a90-4e39-88c8-6d3c70291a17"
      },
      "outputs": [
        {
          "name": "stdout",
          "output_type": "stream",
          "text": [
            "carat       0.70\n",
            "depth      61.80\n",
            "table      57.00\n",
            "price    2401.00\n",
            "x           5.70\n",
            "y           5.71\n",
            "z           3.53\n",
            "dtype: float64\n"
          ]
        }
      ],
      "source": [
        "# Median of each numeric column\n",
        "print(numeric_cols.median())\n",
        "\n"
      ]
    },
    {
      "cell_type": "code",
      "execution_count": 54,
      "metadata": {
        "colab": {
          "base_uri": "https://localhost:8080/"
        },
        "id": "2reSVQj_tVx5",
        "outputId": "c7d4c492-9548-4e6d-ffc0-d0110f79b3f3"
      },
      "outputs": [
        {
          "name": "stdout",
          "output_type": "stream",
          "text": [
            "carat        0.3\n",
            "cut        Ideal\n",
            "color          G\n",
            "clarity      SI1\n",
            "depth       62.0\n",
            "table       56.0\n",
            "price        605\n",
            "x           4.37\n",
            "y           4.34\n",
            "z            2.7\n",
            "Name: 0, dtype: object\n"
          ]
        }
      ],
      "source": [
        "# Mode of each column (note: mode can handle categorical data)\n",
        "print(df_cleaned.mode().iloc[0])  # Mode for each column may contain multiple values\n",
        "\n"
      ]
    },
    {
      "cell_type": "code",
      "execution_count": 55,
      "metadata": {
        "colab": {
          "base_uri": "https://localhost:8080/"
        },
        "id": "bMih9pX9tXfo",
        "outputId": "6b9e069c-6ed1-42a2-ee6c-c163c5ecfad2"
      },
      "outputs": [
        {
          "name": "stdout",
          "output_type": "stream",
          "text": [
            "carat       0.473390\n",
            "depth       1.429909\n",
            "table       2.233679\n",
            "price    3988.114460\n",
            "x           1.120695\n",
            "y           1.141209\n",
            "z           0.705037\n",
            "dtype: float64\n"
          ]
        }
      ],
      "source": [
        "# Standard deviation of each numeric column\n",
        "print(numeric_cols.std())"
      ]
    },
    {
      "cell_type": "code",
      "execution_count": 56,
      "metadata": {
        "colab": {
          "base_uri": "https://localhost:8080/",
          "height": 472
        },
        "id": "GAf8GM6GlMQp",
        "outputId": "cf2afe98-4530-4fea-8d95-7109e3e6d919"
      },
      "outputs": [
        {
          "data": {
            "image/png": "[encoded data removed]",
            "text/plain": [
              "<Figure size 640x480 with 1 Axes>"
            ]
          },
          "metadata": {},
          "output_type": "display_data"
        }
      ],
      "source": [
        "# Visualizations\n",
        "\n",
        "# Histogram of diamond prices\n",
        "sns.histplot(df_cleaned['price'])\n",
        "plt.title('Histogram of Diamond Prices')\n",
        "plt.show()\n",
        "\n",
        "\n"
      ]
    },
    {
      "cell_type": "code",
      "execution_count": 57,
      "metadata": {
        "colab": {
          "base_uri": "https://localhost:8080/",
          "height": 472
        },
        "id": "5YOXnO3klOIS",
        "outputId": "e169f3d0-a769-4c70-917f-1f98b6d21674"
      },
      "outputs": [
        {
          "data": {
            "image/png": "[encoded data removed]",
            "text/plain": [
              "<Figure size 640x480 with 1 Axes>"
            ]
          },
          "metadata": {},
          "output_type": "display_data"
        }
      ],
      "source": [
        "# Boxplot of prices by cut\n",
        "sns.boxplot(x='cut', y='price', data=df_cleaned)\n",
        "plt.title('Boxplot of Prices by Cut')\n",
        "plt.show()"
      ]
    },
    {
      "cell_type": "markdown",
      "metadata": {
        "id": "X0NApSIftpqe"
      },
      "source": [
        "### **Inferential Statistics**"
      ]
    },
    {
      "cell_type": "code",
      "execution_count": 58,
      "metadata": {
        "id": "d_yTILtunM3C"
      },
      "outputs": [],
      "source": [
        "#Hypothesis Testing\n",
        "#Test if there's a significant difference in diamond prices between different cuts using a t-test.\n",
        "\n",
        "\n",
        "# Prices for different cuts\n",
        "ideal = df_cleaned[df_cleaned['cut'] == 'Ideal']['price']\n",
        "premium = df_cleaned[df_cleaned['cut'] == 'Premium']['price']\n",
        "\n",
        "# Perform a t-test on ideal and premium\n",
        "#Continue the code in the same manner as it was executed on the initial dataset.\n"
      ]
    },
    {
      "cell_type": "code",
      "execution_count": 59,
      "metadata": {
        "id": "At_QqJSFnM64"
      },
      "outputs": [],
      "source": [
        "#Regression Analysis\n",
        "#Model the relationship between carat weight and diamond price using linear regression.\n",
        "\n",
        "import statsmodels.api as sm\n",
        "\n",
        "# Simple linear regression\n",
        "X = df_cleaned['carat']\n",
        "y = df_cleaned['price']\n",
        "X = sm.add_constant(X)  # adding a constant\n",
        "\n",
        "model = sm.OLS(y, X).fit()\n",
        "predictions = model.predict(X)\n",
        "\n"
      ]
    },
    {
      "cell_type": "code",
      "execution_count": 62,
      "metadata": {
        "id": "LTivsK10lVyA"
      },
      "outputs": [
        {
          "data": {
            "image/png": "[encoded data removed]",
            "text/plain": [
              "<Figure size 640x480 with 1 Axes>"
            ]
          },
          "metadata": {},
          "output_type": "display_data"
        },
        {
          "name": "stdout",
          "output_type": "stream",
          "text": [
            "                            OLS Regression Results                            \n",
            "==============================================================================\n",
            "Dep. Variable:                  price   R-squared:                       0.849\n",
            "Model:                            OLS   Adj. R-squared:                  0.849\n",
            "Method:                 Least Squares   F-statistic:                 3.030e+05\n",
            "Date:                Fri, 07 Jun 2024   Prob (F-statistic):               0.00\n",
            "Time:                        03:30:45   Log-Likelihood:            -4.7145e+05\n",
            "No. Observations:               53794   AIC:                         9.429e+05\n",
            "Df Residuals:                   53792   BIC:                         9.429e+05\n",
            "Df Model:                           1                                         \n",
            "Covariance Type:            nonrobust                                         \n",
            "==============================================================================\n",
            "                 coef    std err          t      P>|t|      [0.025      0.975]\n",
            "------------------------------------------------------------------------------\n",
            "const      -2260.6268     13.083   -172.793      0.000   -2286.269   -2234.984\n",
            "carat       7763.6586     14.103    550.491      0.000    7736.016    7791.301\n",
            "==============================================================================\n",
            "Omnibus:                    13955.519   Durbin-Watson:                   0.991\n",
            "Prob(Omnibus):                  0.000   Jarque-Bera (JB):           153135.105\n",
            "Skew:                           0.935   Prob(JB):                         0.00\n",
            "Kurtosis:                      11.051   Cond. No.                         3.66\n",
            "==============================================================================\n",
            "\n",
            "Notes:\n",
            "[1] Standard Errors assume that the covariance matrix of the errors is correctly specified.\n"
          ]
        }
      ],
      "source": [
        "\n",
        "# Plotting\n",
        "plt.scatter(df_cleaned['carat'], df_cleaned['price'], label='Data points')\n",
        "plt.plot(df_cleaned['carat'], predictions, color='red', label='Regression line')\n",
        "plt.xlabel('Carat')\n",
        "plt.ylabel('Price')\n",
        "plt.title('Carat vs Price: Linear Regression')\n",
        "plt.legend()\n",
        "plt.show()\n",
        "\n",
        "# Print the model summary\n",
        "print(model.summary())\n"
      ]
    },
    {
      "cell_type": "code",
      "execution_count": null,
      "metadata": {},
      "outputs": [],
      "source": []
    }
  ],
  "metadata": {
    "colab": {
      "provenance": []
    },
    "kernelspec": {
      "display_name": "Python 3",
      "name": "python3"
    },
    "language_info": {
      "codemirror_mode": {
        "name": "ipython",
        "version": 3
      },
      "file_extension": ".py",
      "mimetype": "text/x-python",
      "name": "python",
      "nbconvert_exporter": "python",
      "pygments_lexer": "ipython3",
      "version": "3.11.6"
    }
  },
  "nbformat": 4,
  "nbformat_minor": 0
}
